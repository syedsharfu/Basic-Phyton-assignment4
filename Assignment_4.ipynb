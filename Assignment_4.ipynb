{
 "cells": [
  {
   "cell_type": "raw",
   "id": "9e9370f6-ddd5-47ec-bcdb-9113338747d9",
   "metadata": {},
   "source": [
    "1. What exactly is []?"
   ]
  },
  {
   "cell_type": "raw",
   "id": "7ca85ce8-4b0e-4059-9e60-b9a61e288e9e",
   "metadata": {},
   "source": [
    "In Python, [] represents an empty list. A list is a versatile and mutable data type that can contain elements of different data types, and it is defined by square brackets. An empty list, denoted by [], has no elements."
   ]
  },
  {
   "cell_type": "raw",
   "id": "10304350-8daa-4680-8a6e-c6fe03bcae79",
   "metadata": {},
   "source": [
    "2. In a list of values stored in a variable called spam, how would you assign the value 'hello' as the third value? (Assume [2, 4, 6, 8, 10] are in spam.)"
   ]
  },
  {
   "cell_type": "code",
   "execution_count": 1,
   "id": "b16fb91d-3124-4072-8ba9-28f49e2f19dc",
   "metadata": {},
   "outputs": [
    {
     "name": "stdout",
     "output_type": "stream",
     "text": [
      "[2, 4, 'hello', 8, 10]\n"
     ]
    }
   ],
   "source": [
    "spam = [2, 4, 6, 8, 10]\n",
    "\n",
    "# Assign 'hello' as the third value (at index 2)\n",
    "spam[2] = 'hello'\n",
    "\n",
    "print(spam)\n"
   ]
  },
  {
   "cell_type": "raw",
   "id": "3c498222-427a-4567-ac38-358680b71214",
   "metadata": {},
   "source": [
    "Let's pretend the spam includes the list ['a', 'b', 'c', 'd'] for the next three queries."
   ]
  },
  {
   "cell_type": "raw",
   "id": "ba45105c-944d-4768-ad4a-c823bcebf939",
   "metadata": {},
   "source": [
    "3. What is the value of spam[int(int('3' * 2) / 11)]?"
   ]
  },
  {
   "cell_type": "code",
   "execution_count": 9,
   "id": "f6c3ac72-7950-4e81-ac62-f5f370b67788",
   "metadata": {},
   "outputs": [
    {
     "data": {
      "text/plain": [
       "'d'"
      ]
     },
     "execution_count": 9,
     "metadata": {},
     "output_type": "execute_result"
    }
   ],
   "source": [
    "spam = ['a', 'b', 'c', 'd']\n",
    "spam[int(int('3' * 2) / 11)]"
   ]
  },
  {
   "cell_type": "raw",
   "id": "73f642a2-9ced-4e0b-b53a-5e984cc36707",
   "metadata": {},
   "source": [
    "4. What is the value of spam[-1]?"
   ]
  },
  {
   "cell_type": "code",
   "execution_count": 10,
   "id": "29a928f4-805e-4306-b3b9-1af71a3ac70b",
   "metadata": {},
   "outputs": [
    {
     "data": {
      "text/plain": [
       "'d'"
      ]
     },
     "execution_count": 10,
     "metadata": {},
     "output_type": "execute_result"
    }
   ],
   "source": [
    "spam = ['a', 'b', 'c', 'd']\n",
    "spam[-1]"
   ]
  },
  {
   "cell_type": "raw",
   "id": "36d163b3-72fc-4e6b-9072-49807af53bbc",
   "metadata": {},
   "source": [
    "5. What is the value of spam[:2]?"
   ]
  },
  {
   "cell_type": "code",
   "execution_count": 11,
   "id": "64750449-f0c6-49bd-b5d3-381fd6245113",
   "metadata": {},
   "outputs": [
    {
     "data": {
      "text/plain": [
       "['a', 'b']"
      ]
     },
     "execution_count": 11,
     "metadata": {},
     "output_type": "execute_result"
    }
   ],
   "source": [
    "spam = ['a', 'b', 'c', 'd']\n",
    "spam[:2]"
   ]
  },
  {
   "cell_type": "raw",
   "id": "c98d839f-07c6-409e-93f6-e6269cbb8b17",
   "metadata": {},
   "source": [
    "Let's pretend bacon has the list [3.14, 'cat,' 11, 'cat,' True] for the next three questions."
   ]
  },
  {
   "cell_type": "raw",
   "id": "dcba2697-f7b8-4f8c-bb41-cb3dc6f36ebf",
   "metadata": {},
   "source": [
    "6. What is the value of bacon.index('cat')?"
   ]
  },
  {
   "cell_type": "code",
   "execution_count": 14,
   "id": "936635ca-8831-499d-8574-c86262b920e2",
   "metadata": {},
   "outputs": [
    {
     "data": {
      "text/plain": [
       "1"
      ]
     },
     "execution_count": 14,
     "metadata": {},
     "output_type": "execute_result"
    }
   ],
   "source": [
    "bacon = [3.14, 'cat', 11, 'cat', True]\n",
    "bacon.index('cat')"
   ]
  },
  {
   "cell_type": "raw",
   "id": "a49f8826-7c55-4dfb-865d-4df48b9a754c",
   "metadata": {},
   "source": [
    "7. How does bacon.append(99) change the look of the list value in bacon?"
   ]
  },
  {
   "cell_type": "code",
   "execution_count": 19,
   "id": "f62e8566-88ba-4572-a553-075727f6f5d5",
   "metadata": {},
   "outputs": [
    {
     "name": "stdout",
     "output_type": "stream",
     "text": [
      "[3.14, 'cat', 11, 'cat', True, 99]\n"
     ]
    }
   ],
   "source": [
    "bacon = [3.14, 'cat', 11, 'cat', True]\n",
    "bacon.append(99)\n",
    "print(bacon)"
   ]
  },
  {
   "cell_type": "raw",
   "id": "cac34d38-3349-4ea0-9f67-7403b6364233",
   "metadata": {},
   "source": [
    "8. How does bacon.remove('cat') change the look of the list in bacon?"
   ]
  },
  {
   "cell_type": "code",
   "execution_count": 20,
   "id": "27306c32-9aef-4335-80a7-80235f11a929",
   "metadata": {},
   "outputs": [
    {
     "name": "stdout",
     "output_type": "stream",
     "text": [
      "[3.14, 11, 'cat', True]\n"
     ]
    }
   ],
   "source": [
    "bacon = [3.14, 'cat', 11, 'cat', True]\n",
    "bacon.remove('cat')\n",
    "print(bacon)"
   ]
  },
  {
   "cell_type": "raw",
   "id": "cae59864-ccb9-4926-8d3c-93ab42262ed9",
   "metadata": {},
   "source": [
    "9. What are the list concatenation and list replication operators?"
   ]
  },
  {
   "cell_type": "raw",
   "id": "4b31a399-cc0a-449a-85fc-5950e7f7852b",
   "metadata": {},
   "source": [
    "In Python, the list concatenation operator is +, and the list replication operator is *.\n",
    "The + operator is used for concatenating (joining) two lists into a new list.\n",
    "It creates a new list that contains all the elements from the first list followed by all the elements from the second list.\n",
    "The original lists remain unchanged.\n",
    "The * operator is used for replicating (repeating) a list a specified number of times.\n",
    "It creates a new list by repeating the elements of the original list the specified number of times.\n",
    "The original list remains unchanged."
   ]
  },
  {
   "cell_type": "raw",
   "id": "cb56deb4-9753-436f-900c-08528c326193",
   "metadata": {},
   "source": [
    "10. What is difference between the list methods append() and insert()?"
   ]
  },
  {
   "cell_type": "raw",
   "id": "57af210b-d0f4-4a50-a7e4-123aa59eb1a8",
   "metadata": {},
   "source": [
    "The append() and insert() methods in Python are both used to add elements to a list.\n",
    "The key difference is that append() adds an element to the end of the list, while insert() allows you to specify the position (index) where you want to insert the element. Both methods modify the original list in-place."
   ]
  },
  {
   "cell_type": "raw",
   "id": "13af0c4a-9e58-4c6b-8053-c6a3006b44af",
   "metadata": {},
   "source": [
    "11. What are the two methods for removing items from a list?"
   ]
  },
  {
   "cell_type": "raw",
   "id": "faf622f3-a11b-4b27-89d9-c66c46930d30",
   "metadata": {},
   "source": [
    "There are two common methods for removing items from a list in Python: remove() and pop(). Both methods modify the original list in-place. Choose the method that best fits your requirements based on whether you want to remove by value (remove()) or by index (pop())."
   ]
  },
  {
   "cell_type": "raw",
   "id": "070847b3-dc5a-4513-9cb0-a5292c6fc27a",
   "metadata": {},
   "source": [
    "12. Describe how list values and string values are identical."
   ]
  },
  {
   "cell_type": "raw",
   "id": "30210e98-6086-47fb-a79c-4758b3cf7112",
   "metadata": {},
   "source": [
    "List values and string values in Python share several similarities and they also have some important differences. Here's how they are identical:\n",
    "Sequential Ordered Collections:Both lists and strings are sequential ordered collections meaning that their elements have a specific order from left to right.\n",
    "Access by Index:Elements in both lists and strings can be accessed by index. The index starts at 0 for the first element, 1 for the second, and so on.\n",
    "Slicing:Both lists and strings support slicing, allowing you to extract a portion of the sequence.\n",
    "Iterability:Both lists and strings are iterable, meaning you can loop through their elements using a for loop.\n",
    "Length:The len() function can be used to get the length (number of elements) of both lists and strings."
   ]
  },
  {
   "cell_type": "raw",
   "id": "f3d93b60-0237-45e9-b712-22fb4ad21b25",
   "metadata": {},
   "source": [
    "13. What's the difference between tuples and lists?"
   ]
  },
  {
   "cell_type": "raw",
   "id": "fbfc6633-41cc-40c5-9a08-3369055b79f7",
   "metadata": {},
   "source": [
    "In Python, tuples and lists are both used to store ordered collections of items, but they have some key differences. Here are the main distinctions between tuples and lists:\n",
    "\n",
    "Mutability: Lists are mutable: This means you can modify their elements, add new elements, or remove existing elements after the list is created.\n",
    "Tuples are immutable: Once a tuple is created, you cannot modify its elements, add new elements, or remove existing elements.\n",
    "Syntax: Lists are defined using square brackets [ ]: Tuples are defined using parentheses ( ):\n",
    "Methods and Operations: Lists have more built-in methods: Lists provide a variety of methods for modifying, sorting, and manipulating elements.\n",
    "Tuples have fewer methods: Tuples have fewer built-in methods because they are immutable. They support basic operations like indexing and counting, but not operations that modify the tuple in-place.\n",
    "Use Cases: Lists are used for collections of items where the order and content might change: If you need a collection that can be modified, such as adding or removing elements, or if the order of elements matters, then a list is a suitable choice.\n",
    "Tuples are used for fixed collections of items that should remain constant: If you have a collection of items that should not be modified, such as coordinates (x, y), or if you want to use the collection as a key in a dictionary, then a tuple is a good choice due to its immutability."
   ]
  },
  {
   "cell_type": "raw",
   "id": "72ef0d8f-2a5c-4edf-9e38-c09e5ec24ad3",
   "metadata": {},
   "source": [
    "14. How do you type a tuple value that only contains the integer 42?"
   ]
  },
  {
   "cell_type": "raw",
   "id": "6088fdc3-dffc-44b2-b776-8f54f66c3a06",
   "metadata": {},
   "source": [
    "To create a tuple containing the integer 42, you can use parentheses () and place the integer inside. Here's how you would type a tuple with the integer 42:\n",
    "my_tuple = (42,)"
   ]
  },
  {
   "cell_type": "raw",
   "id": "2dafb624-1963-4237-8ed1-6e7472dbbbe1",
   "metadata": {},
   "source": [
    "15. How do you get a list value's tuple form? How do you get a tuple value's list form?"
   ]
  },
  {
   "cell_type": "raw",
   "id": "d7b285e7-8132-4a27-b399-a96f69a0964b",
   "metadata": {},
   "source": [
    "To convert a list to a tuple or a tuple to a list, you can use the tuple() and list() functions"
   ]
  },
  {
   "cell_type": "code",
   "execution_count": 22,
   "id": "7b4c6d1a-ec5b-47a7-b5d5-cac4e6aa55db",
   "metadata": {},
   "outputs": [
    {
     "name": "stdout",
     "output_type": "stream",
     "text": [
      "(1, 2, 3)\n"
     ]
    }
   ],
   "source": [
    "my_list = [1, 2, 3]\n",
    "my_tuple = tuple(my_list)\n",
    "print(my_tuple)  # Outputs: (1, 2, 3)\n"
   ]
  },
  {
   "cell_type": "code",
   "execution_count": 23,
   "id": "f054a0e2-4344-4a4c-babb-358817c0781f",
   "metadata": {},
   "outputs": [
    {
     "name": "stdout",
     "output_type": "stream",
     "text": [
      "[1, 2, 3]\n"
     ]
    }
   ],
   "source": [
    "my_tuple = (1, 2, 3)\n",
    "my_list = list(my_tuple)\n",
    "print(my_list)  # Outputs: [1, 2, 3]\n"
   ]
  },
  {
   "cell_type": "raw",
   "id": "292b6b50-6080-4f25-be67-3960b5ae01b8",
   "metadata": {},
   "source": [
    "16. Variables that \"contain\" list values are not necessarily lists themselves. Instead, what do they contain?"
   ]
  },
  {
   "cell_type": "raw",
   "id": "7e8d24dd-36fe-463c-843b-b12a1103a908",
   "metadata": {},
   "source": [
    "Variables that \"contain\" list values in Python are actually referencing or pointing to the memory location where the list is stored. In Python, variables are essentially names or labels that refer to objects in memory. When you assign a list to a variable, the variable holds a reference to the memory location where the list is stored, not the list itself."
   ]
  },
  {
   "cell_type": "raw",
   "id": "c4711ac1-5e83-4fe9-840c-34c6d23417bc",
   "metadata": {},
   "source": [
    "17. How do you distinguish between copy.copy() and copy.deepcopy()?"
   ]
  },
  {
   "cell_type": "raw",
   "id": "148919c2-fe28-48eb-86d9-45beb8abe6aa",
   "metadata": {},
   "source": [
    "copy.copy() (Shallow Copy): copy.copy() creates a shallow copy of the original object.\n",
    "A shallow copy creates a new object but does not create new objects for the elements within the original object. Instead, it copies references to the original objects.\n",
    "If the original object contains nested mutable objects (e.g., lists), changes to those nested objects will be reflected in both the original and copied objects.\n",
    "copy.deepcopy() (Deep Copy):\n",
    "copy.deepcopy() creates a deep copy of the original object.\n",
    "A deep copy creates a new object and recursively copies all the objects found in the original, including any nested objects. This results in a completely independent copy.\n",
    "Changes to the nested objects in the copy do not affect the original object.\n",
    "copy.copy() creates a shallow copy where nested objects are still shared between the original and copied objects, while copy.deepcopy() creates a deep copy where all objects, including nested ones, are duplicated independently. The choice between the two depends on your specific use case and whether you want changes to nested objects to affect both the original and copied objects."
   ]
  },
  {
   "cell_type": "code",
   "execution_count": null,
   "id": "8579b7fd-6914-403a-9763-67a829054b79",
   "metadata": {},
   "outputs": [],
   "source": []
  }
 ],
 "metadata": {
  "kernelspec": {
   "display_name": "Python 3 (ipykernel)",
   "language": "python",
   "name": "python3"
  },
  "language_info": {
   "codemirror_mode": {
    "name": "ipython",
    "version": 3
   },
   "file_extension": ".py",
   "mimetype": "text/x-python",
   "name": "python",
   "nbconvert_exporter": "python",
   "pygments_lexer": "ipython3",
   "version": "3.10.6"
  }
 },
 "nbformat": 4,
 "nbformat_minor": 5
}
